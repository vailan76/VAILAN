{
  "nbformat": 4,
  "nbformat_minor": 0,
  "metadata": {
    "colab": {
      "provenance": [],
      "authorship_tag": "ABX9TyNLgWha77i0jUsGJ/3bnTwm",
      "include_colab_link": true
    },
    "kernelspec": {
      "name": "python3",
      "display_name": "Python 3"
    },
    "language_info": {
      "name": "python"
    }
  },
  "cells": [
    {
      "cell_type": "markdown",
      "metadata": {
        "id": "view-in-github",
        "colab_type": "text"
      },
      "source": [
        "<a href=\"https://colab.research.google.com/github/vailan76/VAILAN/blob/main/vailanExp1.ipynb\" target=\"_parent\"><img src=\"https://colab.research.google.com/assets/colab-badge.svg\" alt=\"Open In Colab\"/></a>"
      ]
    },
    {
      "cell_type": "code",
      "execution_count": null,
      "metadata": {
        "id": "FHCASJlUhDVe"
      },
      "outputs": [],
      "source": []
    },
    {
      "cell_type": "markdown",
      "source": [
        "**PYTHON CODE FOR TEXT HANDLING**"
      ],
      "metadata": {
        "id": "HFnp2VCJhRS5"
      }
    },
    {
      "cell_type": "code",
      "source": [
        "def is_palindrome(s: str) -> bool:\n",
        "    # Remove non-alphanumeric characters and convert to lowercase\n",
        "    cleaned = ''.join(c.lower() for c in s if c.isalnum())\n",
        "    # Check if the cleaned string is equal to its reverse\n",
        "    return cleaned == cleaned[::-1]\n",
        "\n",
        "# Example usage:\n",
        "if __name__ == \"__main__\":\n",
        "    test_str = input(\"Enter a string: \")\n",
        "    if is_palindrome(test_str):\n",
        "        print(\"Palindrome\")\n",
        "    else:\n",
        "        print(\"Not a palindrome\")"
      ],
      "metadata": {
        "colab": {
          "base_uri": "https://localhost:8080/"
        },
        "id": "MzeCvRr9hYfu",
        "outputId": "53a7cc4c-27bb-4f01-cd79-b1ec65735106"
      },
      "execution_count": 2,
      "outputs": [
        {
          "output_type": "stream",
          "name": "stdout",
          "text": [
            "Enter a string: level\n",
            "Palindrome\n"
          ]
        }
      ]
    },
    {
      "cell_type": "markdown",
      "source": [
        "**PYTHON CODE FOR FILE HANDLING**"
      ],
      "metadata": {
        "id": "juAtLJMJhng3"
      }
    },
    {
      "cell_type": "code",
      "source": [
        "# Python code to read data from a text file\n",
        "\n",
        "def read_file(filename):\n",
        "    \"\"\"Reads and returns the content of a text file.\"\"\"\n",
        "    try:\n",
        "        with open(filename, 'r') as file:\n",
        "            data = file.read()\n",
        "        return data\n",
        "    except FileNotFoundError:\n",
        "        return f\"File '{filename}' not found.\"\n",
        "\n",
        "# Example usage:\n",
        "if __name__ == \"__main__\":\n",
        "    filename = input(\"Enter the filename: \")\n",
        "    content = read_file(filename)\n",
        "    print(\"File content:\\n\", content)"
      ],
      "metadata": {
        "id": "xdN9pwm5iA7_"
      },
      "execution_count": null,
      "outputs": []
    },
    {
      "cell_type": "markdown",
      "source": [
        "**PYTHON CODE FOR IMAGE PROCESSING**"
      ],
      "metadata": {
        "id": "2W73yq1vimyw"
      }
    },
    {
      "cell_type": "code",
      "source": [
        "import cv2\n",
        "\n",
        "def process_image(input_path, output_path):\n",
        "    # Read the image\n",
        "    img = cv2.imread(input_path)\n",
        "\n",
        "    if img is None:\n",
        "        print(\"Error: Image not found or unable to open.\")\n",
        "        return\n",
        "\n",
        "    # Convert to grayscale\n",
        "    gray_img = cv2.cvtColor(img, cv2.COLOR_BGR2GRAY)\n",
        "\n",
        "    # Resize the image to 256x256\n",
        "    resized_img = cv2.resize(gray_img, (256, 256))\n",
        "\n",
        "    # Save the processed image\n",
        "    cv2.imwrite(output_path, resized_img)\n",
        "    print(f\"Processed image saved as {output_path}\")\n",
        "\n",
        "# Example usage\n",
        "if __name__ == \"__main__\":\n",
        "    input_file = input(\"Enter input image filename: \")\n",
        "    output_file = input(\"Enter output image filename: \")\n",
        "    process_image(input_file, output_file)"
      ],
      "metadata": {
        "id": "czxoRHKOiz9o"
      },
      "execution_count": null,
      "outputs": []
    }
  ]
}